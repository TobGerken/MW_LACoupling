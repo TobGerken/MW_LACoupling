{
 "cells": [
  {
   "cell_type": "code",
   "execution_count": 1,
   "metadata": {},
   "outputs": [],
   "source": [
    "# Author: Tobias Gerken (gerkentx@jmu.edu)\n",
    "# v0.01 = 202106025\n",
    "# Script to download IGRA radisonde data and to parse data into CSVs for later use\n",
    "\n",
    "\n",
    "\n",
    "# Dependencies \n",
    "import igra # https://github.com/MBlaschek/igra/blob/master/igra  # installed via: pip install igra\n",
    "import pandas as pd\n",
    "import glob\n",
    "import os\n",
    "import datetime\n",
    "\n",
    "# Note IGRA also has capability to parse all soundings to xarray"
   ]
  },
  {
   "cell_type": "code",
   "execution_count": 2,
   "metadata": {},
   "outputs": [],
   "source": [
    "# set working dir\n",
    "\n",
    "os.chdir('D:\\Research_Data\\IGRA')\n",
    "# set data director\n",
    "data_path = 'D:\\Research_Data\\IGRA'\n",
    "derived_path = 'D:\\Research_Data\\IGRA\\_derived'\n",
    "\n",
    "force_download = False # Forces download of data from IGRA \n",
    "\n",
    "FlagDLStationList = False"
   ]
  },
  {
   "cell_type": "code",
   "execution_count": 3,
   "metadata": {},
   "outputs": [],
   "source": [
    "if FlagDLStationList:  \n",
    "    # Get stationlist and \n",
    "    station_list = igra.download.stationlist(data_path)\n",
    "    station_list.to_csv('station_list_' + current_time + '.txt')\n",
    "    station_list.head()"
   ]
  },
  {
   "cell_type": "code",
   "execution_count": 4,
   "metadata": {},
   "outputs": [
    {
     "data": {
      "text/plain": [
       "{'Bismarck': 'USM00072764',\n",
       " 'Aberdeen': 'USM00072659',\n",
       " 'Minneapolis': 'USM00072649',\n",
       " 'Quad City': 'USM00074455',\n",
       " 'Omaha': 'USM00072558',\n",
       " 'Topeka': 'USM00072456',\n",
       " 'Springfield': 'USM00072440',\n",
       " 'Nashville': 'USM00072327',\n",
       " 'Little Rock': 'USM00072340',\n",
       " 'Jackson': 'USM00072235'}"
      ]
     },
     "execution_count": 4,
     "metadata": {},
     "output_type": "execute_result"
    }
   ],
   "source": [
    "server = 'https://www1.ncdc.noaa.gov/pub/data/igra/data/data-por/'\n",
    "\n",
    "stations = {'Bismarck': 'USM00072764',\n",
    "            'Aberdeen': 'USM00072659',  # need to rerun b/c error \n",
    "            'Minneapolis': 'USM00072649',\n",
    "            'Quad City':'USM00074455',     \n",
    "            'Omaha' : 'USM00072558',\n",
    "            'Topeka': 'USM00072456',\n",
    "            'Springfield':'USM00072440', \n",
    "            'Nashville':'USM00072327',\n",
    "            'Little Rock': 'USM00072340',\n",
    "            'Jackson':'USM00072235'\n",
    "           }        \n",
    "\n",
    "# set time period\n",
    "start_time = '2010'\n",
    "end_time = '2019'\n",
    "\n",
    "start_time = pd.to_datetime('2010-01-01') # replace with real time here\n",
    "end_time   =pd.to_datetime('2019-12-31')\n",
    "\n",
    "start_time = pd.to_datetime('2009-01-01') # replace with real time here\n",
    "end_time   =pd.to_datetime('2009-12-31')\n",
    "\n",
    "stations"
   ]
  },
  {
   "cell_type": "code",
   "execution_count": 5,
   "metadata": {},
   "outputs": [],
   "source": [
    "# now download the profiles \n",
    "if False:\n",
    "    from process_igra import save_profiles\n",
    "    save_profiles({'Bismarck': 'USM00072764'}, data_path,start_time, end_time)"
   ]
  },
  {
   "cell_type": "code",
   "execution_count": 6,
   "metadata": {},
   "outputs": [
    {
     "name": "stdout",
     "output_type": "stream",
     "text": [
      "D:\\Research_Data\\IGRA\n",
      "['D:\\\\Research_Data\\\\IGRA\\\\_derived\\\\USM00072764-drvd.txt.zip']\n",
      "D:\\Research_Data\\IGRA\\Bismarck\\Derived_USM00072764_20090101to20091231_00Z.csv\n"
     ]
    }
   ],
   "source": [
    "# download the derived data as well \n",
    "from process_igra import save_derived\n",
    "save_derived({'Bismarck': 'USM00072764'}, data_path, derived_path ,start_time, end_time)"
   ]
  },
  {
   "cell_type": "code",
   "execution_count": null,
   "metadata": {},
   "outputs": [],
   "source": []
  }
 ],
 "metadata": {
  "kernelspec": {
   "display_name": "Python 3",
   "language": "python",
   "name": "python3"
  },
  "language_info": {
   "codemirror_mode": {
    "name": "ipython",
    "version": 3
   },
   "file_extension": ".py",
   "mimetype": "text/x-python",
   "name": "python",
   "nbconvert_exporter": "python",
   "pygments_lexer": "ipython3",
   "version": "3.8.5"
  }
 },
 "nbformat": 4,
 "nbformat_minor": 4
}
